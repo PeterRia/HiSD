{
 "metadata": {
  "language_info": {
   "codemirror_mode": {
    "name": "ipython",
    "version": 3
   },
   "file_extension": ".py",
   "mimetype": "text/x-python",
   "name": "python",
   "nbconvert_exporter": "python",
   "pygments_lexer": "ipython3",
   "version": 3
  },
  "orig_nbformat": 2
 },
 "nbformat": 4,
 "nbformat_minor": 2,
 "cells": [
  {
   "cell_type": "code",
   "execution_count": null,
   "metadata": {},
   "outputs": [],
   "source": [
    "# import packages\n",
    "from core.utils import get_config\n",
    "from core.trainer import HiSD_Trainer\n",
    "import argparse\n",
    "import torchvision.utils as vutils\n",
    "import sys\n",
    "import torch\n",
    "import os\n",
    "from torchvision import transforms\n",
    "from PIL import Image\n",
    "import numpy as np\n",
    "import time"
   ]
  },
  {
   "cell_type": "code",
   "execution_count": null,
   "metadata": {},
   "outputs": [],
   "source": [
    "# device = 'cuda:0' \n",
    "device = 'cpu'\n",
    "\n",
    "# load checkpoint\n",
    "noise_dim = 32\n",
    "image_size = 128\n",
    "config = get_config('configs/celeba-hq.yaml')\n",
    "checkpoint = 'checkpoint_128_celeba-hq.pt'\n",
    "trainer = HiSD_Trainer(config)\n",
    "state_dict = torch.load(checkpoint)\n",
    "trainer.models.gen.load_state_dict(state_dict['gen_test'])\n",
    "trainer.models.gen.to(device)\n",
    "\n",
    "E = trainer.models.gen.encode\n",
    "T = trainer.models.gen.translate\n",
    "G = trainer.models.gen.decode\n",
    "M = trainer.models.gen.map\n",
    "F = trainer.models.gen.extract\n",
    "\n",
    "transform = transforms.Compose([transforms.Resize(image_size),\n",
    "                                    transforms.ToTensor(),\n",
    "                                    transforms.Normalize((0.5, 0.5, 0.5), (0.5, 0.5, 0.5))])"
   ]
  },
  {
   "cell_type": "code",
   "execution_count": null,
   "metadata": {},
   "outputs": [],
   "source": [
    "\"\"\"\n",
    "DIY your translation steps.\n",
    "e.g. change both 'Bangs' (latent-guided) and 'Eyeglasses' (reference-guided) to 'with'. \n",
    "\"\"\"\n",
    "steps = [\n",
    "    {'type': 'latent-guided', 'tag': 0, 'attribute': 0, 'seed': None},\n",
    "    {'type': 'reference-guided', 'tag': 1, 'reference': 'examples/reference_glasses_0.jpg'}\n",
    "]"
   ]
  },
  {
   "cell_type": "code",
   "execution_count": null,
   "metadata": {},
   "outputs": [],
   "source": [
    "\"\"\"\n",
    "You need to crop the image if you use your own input.\n",
    "\"\"\"\n",
    "input = 'examples/input_0.jpg'"
   ]
  },
  {
   "cell_type": "code",
   "execution_count": null,
   "metadata": {},
   "outputs": [],
   "source": [
    "\"\"\"\n",
    "Do the translation and plot the output.\n",
    "Every time you run this block will output a result with different bangs but reference's eyeglasses.\n",
    "\"\"\"\n",
    "with torch.no_grad():\n",
    "    x = transform(Image.open(input).convert('RGB')).unsqueeze(0).to(device)\n",
    "    c = E(x)\n",
    "    c_trg = c\n",
    "    for j in range(len(steps)):\n",
    "        step = steps[j]\n",
    "        if step['type'] == 'latent-guided':\n",
    "            if step['seed'] is not None:\n",
    "                torch.manual_seed(step['seed'])\n",
    "                torch.cuda.manual_seed(step['seed']) \n",
    "\n",
    "            z = torch.randn(1, noise_dim).to(device)\n",
    "            s_trg = M(z, step['tag'], step['attribute'])\n",
    "\n",
    "        elif step['type'] == 'reference-guided':\n",
    "            reference = transform(Image.open(step['reference']).convert('RGB')).unsqueeze(0).to(device)\n",
    "            s_trg = F(reference, step['tag'])\n",
    "        \n",
    "        c_trg = T(c_trg, s_trg, step['tag'])\n",
    "            \n",
    "    x_trg = G(c_trg)\n",
    "output = x_trg.squeeze(0).cpu().permute(1, 2, 0).add(1).mul(255/2).numpy().astype(np.int8)\n",
    "plt.imshow(output, aspect='auto')\n",
    "plt.show()"
   ]
  }
 ]
}